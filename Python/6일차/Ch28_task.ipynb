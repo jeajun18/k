{
 "cells": [
  {
   "cell_type": "markdown",
   "metadata": {},
   "source": [
    "사용자로부터 3개의 숫자를 입력받아, 이를 튜플로 만든 후 최소값과 최대값을 출력하는 함수 min_max를 작성하세요."
   ]
  },
  {
   "cell_type": "markdown",
   "metadata": {},
   "source": [
    "def min_max(*number):\n",
    "    number_tuple = tuple(number)\n",
    "    print(\"최소값:\", min(number_tuple), \"최대값:\", max(numbers_tuple))\n",
    "\n",
    "min_max(50, 20, 44, 67, 12, 78)\n"
   ]
  }
 ],
 "metadata": {
  "language_info": {
   "name": "python"
  }
 },
 "nbformat": 4,
 "nbformat_minor": 2
}
